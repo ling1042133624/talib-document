{
 "cells": [
  {
   "cell_type": "code",
   "id": "initial_id",
   "metadata": {
    "collapsed": true,
    "ExecuteTime": {
     "end_time": "2024-07-08T15:30:08.438568Z",
     "start_time": "2024-07-08T15:30:08.086419Z"
    }
   },
   "source": [
    "import pandas as pd\n",
    "from mootdx.quotes import Quotes\n",
    "\n",
    "# 创建 Quotes 对象\n",
    "client = Quotes.factory(market='std')\n",
    "\n",
    "# 获取 510300 的近一周 1 分钟 K 线数据\n",
    "# 这里假设一周是5个交易日，每天240个1分钟K线数据，总共是1200条数据\n",
    "symbol = '510300'\n",
    "data = client.bars(symbol=symbol, frequency=8, offset=1200)\n",
    "\n",
    "# 转换为 DataFrame\n",
    "df = pd.DataFrame(data)\n",
    "df['datetime'] = pd.to_datetime(df['datetime'])\n",
    "\n",
    "df\n"
   ],
   "execution_count": 4,
   "outputs": []
  },
  {
   "metadata": {
    "ExecuteTime": {
     "end_time": "2024-07-08T15:31:39.912289Z",
     "start_time": "2024-07-08T15:31:39.705533Z"
    }
   },
   "cell_type": "code",
   "source": [
    "# 历史分时行情，可用\n",
    "from mootdx.quotes import Quotes\n",
    "\n",
    "client = Quotes.factory(market='std')\n",
    "# data=client.minutes(symbol='000001', date='20100105')\n",
    "# data=client.minutes(symbol='510300', date='20160108')\n",
    "data=client.minutes(symbol='161226', date='20240110')\n",
    "data"
   ],
   "id": "f93abf99cbe7545a",
   "execution_count": 5,
   "outputs": []
  },
  {
   "metadata": {
    "ExecuteTime": {
     "end_time": "2024-07-08T16:22:05.112194Z",
     "start_time": "2024-07-08T16:22:04.795647Z"
    }
   },
   "cell_type": "code",
   "source": [
    "from mootdx.quotes import Quotes\n",
    "import pandas as pd\n",
    "\n",
    "# from QHDB.clickhouse.db import storage_client\n",
    "\n",
    "client = Quotes.factory(market='std')\n",
    "ret_list=[]\n",
    "ret=None\n",
    "code='159980'\n",
    "index = 0\n",
    "while True:\n",
    "    data = client.bars(symbol=code, frequency=4, start=index * 800, offset=(1 + index) * 800)\n",
    "    # data = client.bars(symbol='000776', frequency=4, start=index * 800, offset=(1 + index) * 800)\n",
    "\n",
    "    # print(data.to_string())\n",
    "    # # 前复权\n",
    "    # data = client.bars(symbol='600036', adjust='qfq')\n",
    "    #\n",
    "    # # 后复权\n",
    "    # data = client.bars(symbol='600036', adjust='hfq')\n",
    "    ret_list.append(data)\n",
    "    if data.empty or len(data) < 800:\n",
    "        break\n",
    "    index += 1\n",
    "\n",
    "if len(ret_list)>1:\n",
    "    # 使用concat函数拼接DataFrame\n",
    "    result_df = pd.concat(ret_list)\n",
    "\n",
    "    # print(result_df)\n",
    "\n",
    "    # 按照索引（datetime）重新排序\n",
    "    result_df = result_df.sort_index()\n",
    "    result_df.rename(columns={'datetime': 'date'}, inplace=True)\n",
    "    # result_df.set_index('date', inplace=True)\n",
    "    result_df[\"date\"]=pd.to_datetime(result_df[\"date\"])\n",
    "    selected_columns = ['open', 'close', 'high', 'low', 'volume', 'amount','date',\"code\"]\n",
    "    result_df[\"code\"]=code\n",
    "    result_df = result_df.loc[:, selected_columns]\n",
    "    # print(result_df.to_string())\n",
    "    ret=result_df\n",
    "else:\n",
    "    # 按照索引（datetime）重新排序\n",
    "    ret_list[0] = ret_list[0].sort_index()\n",
    "    ret_list[0].rename(columns={'datetime': 'date'}, inplace=True)\n",
    "    # ret_list[0].set_index('date', inplace=True)\n",
    "    ret_list[0][\"date\"]=pd.to_datetime(ret_list[0][\"date\"])\n",
    "    selected_columns = ['open', 'close', 'high', 'low', 'volume', 'amount','date',\"code\"]\n",
    "    ret_list[0][\"code\"]=code\n",
    "    result_df = ret_list[0].loc[:, selected_columns]\n",
    "    # print(ret_list[0].to_string())\n",
    "    ret=ret_list[0]\n",
    "\n",
    "rr=[]\n",
    "for i in range((len(ret)-1)//95+1):\n",
    "    end=len(ret) if (i+1)*95>(len(ret)-1) else (i+1)*95\n",
    "    # storage_client.insert_dataframe('INSERT INTO tdx.bars_1d VALUES', ret[i*95:end])\n",
    "    rr.append( ret[i*95:end])\n",
    "\n",
    "rrr=pd.concat(rr)\n",
    "# print(len(ret),len(rrr))\n",
    "rrr"
   ],
   "id": "790fcbfb6a5e033",
   "execution_count": 24,
   "outputs": []
  },
  {
   "metadata": {
    "ExecuteTime": {
     "end_time": "2024-07-08T16:22:26.818953Z",
     "start_time": "2024-07-08T16:22:26.806834Z"
    }
   },
   "cell_type": "code",
   "source": [
    "rrr_save=rrr[['date','open','close','high','low','volume','amount']]\n",
    "rrr_save.drop(['amount'],axis=1,inplace=True)\n",
    "rrr_save.rename(columns={'date':'datetime'},inplace=True)\n",
    "rrr_save"
   ],
   "id": "b05dab74f61d190a",
   "execution_count": 26,
   "outputs": []
  },
  {
   "metadata": {
    "ExecuteTime": {
     "end_time": "2024-07-08T16:22:34.326631Z",
     "start_time": "2024-07-08T16:22:34.315770Z"
    }
   },
   "cell_type": "code",
   "source": "rrr_save.to_csv('159980-day.csv',index=False)",
   "id": "72476f2be1e879e0",
   "execution_count": 27,
   "outputs": []
  }
 ],
 "metadata": {
  "kernelspec": {
   "display_name": "Python 3",
   "language": "python",
   "name": "python3"
  },
  "language_info": {
   "codemirror_mode": {
    "name": "ipython",
    "version": 2
   },
   "file_extension": ".py",
   "mimetype": "text/x-python",
   "name": "python",
   "nbconvert_exporter": "python",
   "pygments_lexer": "ipython2",
   "version": "2.7.6"
  }
 },
 "nbformat": 4,
 "nbformat_minor": 5
}
