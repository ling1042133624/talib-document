{
 "cells": [
  {
   "metadata": {},
   "cell_type": "markdown",
   "source": [
    "## STDDEV指标介绍\n",
    "STDDEV（Standard Deviation）指标是技术分析中的一个重要指标，用于衡量价格数据的波动性。标准差反映了一段时间内价格偏离其平均值的程度。较高的标准差意味着价格波动较大，而较低的标准差意味着价格较为稳定。\n",
    "\n",
    "## 交易信号的使用方式\n",
    "标准差指标可以用于多种交易策略，以下是一些常见的使用方式：\n",
    "\n",
    "### 波动性判断：\n",
    "\n",
    "高波动性：较高的标准差表示市场波动性大，通常与高风险高收益相伴。\n",
    "低波动性：较低的标准差表示市场波动性小，通常与低风险低收益相伴。\n",
    "\n",
    "### 布林带（Bollinger Bands）：\n",
    "\n",
    "布林带是标准差的一个具体应用。它由三条线组成：中线为移动平均线，上下线为移动平均线加减一定倍数的标准差。价格突破上下布林带时，通常被视为买入或卖出的信号。\n",
    "\n",
    "### 风险管理：\n",
    "\n",
    "使用标准差来衡量和管理投资组合的风险。高波动性的资产可能需要减少配置，而低波动性的资产则可以增加配置。"
   ],
   "id": "1a05fd39448d6329"
  },
  {
   "cell_type": "code",
   "id": "initial_id",
   "metadata": {
    "collapsed": true,
    "ExecuteTime": {
     "end_time": "2024-07-14T16:21:31.502208Z",
     "start_time": "2024-07-14T16:21:30.834638Z"
    }
   },
   "source": [
    "import pandas as pd\n",
    "import akshare as ak\n",
    "import talib\n",
    "\n",
    "ningde_hist_df = ak.stock_zh_a_hist(symbol=\"300750\", period=\"daily\", start_date=\"19900101\", end_date='21000101', adjust=\"qfq\")\n",
    "bank_hist_df = ak.stock_zh_a_hist(symbol=\"601988\", period=\"daily\", start_date=\"19900101\", end_date='21000101', adjust=\"qfq\")\n",
    "fund_etf_hist_em_df = ak.fund_etf_hist_em(symbol=\"159915\", period=\"daily\", start_date=\"20000101\", end_date=\"21000101\", adjust=\"qfq\")\n"
   ],
   "outputs": [],
   "execution_count": 4
  },
  {
   "metadata": {
    "ExecuteTime": {
     "end_time": "2024-07-14T16:24:31.304916Z",
     "start_time": "2024-07-14T16:24:31.295643Z"
    }
   },
   "cell_type": "code",
   "source": [
    "ningde_index = talib.STDDEV(ningde_hist_df[\"收盘\"], timeperiod=30, nbdev=2)\n",
    "ningde_index"
   ],
   "id": "aa021596f6e21b59",
   "outputs": [
    {
     "data": {
      "text/plain": [
       "0             NaN\n",
       "1             NaN\n",
       "2             NaN\n",
       "3             NaN\n",
       "4             NaN\n",
       "          ...    \n",
       "1474    18.025052\n",
       "1475    18.198858\n",
       "1476    18.668340\n",
       "1477    18.570393\n",
       "1478    18.145580\n",
       "Length: 1479, dtype: float64"
      ]
     },
     "execution_count": 9,
     "metadata": {},
     "output_type": "execute_result"
    }
   ],
   "execution_count": 9
  },
  {
   "metadata": {
    "ExecuteTime": {
     "end_time": "2024-07-14T16:24:33.793180Z",
     "start_time": "2024-07-14T16:24:33.787624Z"
    }
   },
   "cell_type": "code",
   "source": [
    "bank_index = talib.STDDEV(bank_hist_df[\"收盘\"], timeperiod=30, nbdev=2)\n",
    "bank_index"
   ],
   "id": "e0ee83595d8615f1",
   "outputs": [
    {
     "data": {
      "text/plain": [
       "0            NaN\n",
       "1            NaN\n",
       "2            NaN\n",
       "3            NaN\n",
       "4            NaN\n",
       "          ...   \n",
       "4362    0.204831\n",
       "4363    0.218989\n",
       "4364    0.231689\n",
       "4365    0.236084\n",
       "4366    0.243227\n",
       "Length: 4367, dtype: float64"
      ]
     },
     "execution_count": 10,
     "metadata": {},
     "output_type": "execute_result"
    }
   ],
   "execution_count": 10
  }
 ],
 "metadata": {
  "kernelspec": {
   "display_name": "Python 3",
   "language": "python",
   "name": "python3"
  },
  "language_info": {
   "codemirror_mode": {
    "name": "ipython",
    "version": 2
   },
   "file_extension": ".py",
   "mimetype": "text/x-python",
   "name": "python",
   "nbconvert_exporter": "python",
   "pygments_lexer": "ipython2",
   "version": "2.7.6"
  }
 },
 "nbformat": 4,
 "nbformat_minor": 5
}
