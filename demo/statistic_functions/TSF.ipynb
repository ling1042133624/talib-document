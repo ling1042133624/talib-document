{
 "cells": [
  {
   "metadata": {},
   "cell_type": "markdown",
   "source": [
    "## TSF指标介绍\n",
    "TSF（Time Series Forecast）是时间序列预测指标，是技术分析中常用的一种指标，用于预测未来价格。TSF利用线性回归方法，对一定时间周期内的价格数据进行拟合，生成一个预测值。这个预测值表示了时间序列在未来某个时刻的预期价格。\n",
    "\n",
    "### 参数解释\n",
    "    price_series：输入的价格序列，通常是收盘价数据。\n",
    "    timeperiod：用于计算TSF的时间窗口大小。\n",
    "\n",
    "#### 计算过程\n",
    "    选择时间窗口：根据指定的时间周期（timeperiod）选择一个时间窗口。\n",
    "    线性回归拟合：在时间窗口内，使用最小二乘法对价格数据进行线性回归拟合，计算出回归方程。\n",
    "    预测未来价格：使用回归方程预测未来价格。\n",
    "\n",
    "### 交易信号的使用方式\n",
    "TSF指标可以用于多种交易策略，以下是一些常见的使用方式：\n",
    "\n",
    "#### 趋势判断：\n",
    "\n",
    "上升趋势：当TSF值上升时，表明市场处于上升趋势。\n",
    "下降趋势：当TSF值下降时，表明市场处于下降趋势。\n",
    "\n",
    "#### 预测价格：\n",
    "\n",
    "使用TSF预测未来价格，并根据预测值进行买卖决策。例如，当当前价格低于预测值时，可能是买入信号；当当前价格高于预测值时，可能是卖出信号。\n",
    "\n",
    "#### 信号确认：\n",
    "\n",
    "TSF可以与其他技术指标结合使用，以确认买入或卖出信号。例如，与移动平均线（MA）结合，当TSF与MA同时发出买入或卖出信号时，交易信号更为可靠。"
   ],
   "id": "1a05fd39448d6329"
  },
  {
   "cell_type": "code",
   "id": "initial_id",
   "metadata": {
    "collapsed": true,
    "ExecuteTime": {
     "end_time": "2024-07-15T14:32:26.011932Z",
     "start_time": "2024-07-15T14:32:23.860567Z"
    }
   },
   "source": [
    "import pandas as pd\n",
    "import akshare as ak\n",
    "import talib\n",
    "\n",
    "ningde_hist_df = ak.stock_zh_a_hist(symbol=\"300750\", period=\"daily\", start_date=\"19900101\", end_date='21000101', adjust=\"qfq\")\n",
    "bank_hist_df = ak.stock_zh_a_hist(symbol=\"601988\", period=\"daily\", start_date=\"19900101\", end_date='21000101', adjust=\"qfq\")\n",
    "fund_etf_hist_em_df = ak.fund_etf_hist_em(symbol=\"159915\", period=\"daily\", start_date=\"20000101\", end_date=\"21000101\", adjust=\"qfq\")\n"
   ],
   "outputs": [],
   "execution_count": 2
  },
  {
   "metadata": {
    "ExecuteTime": {
     "end_time": "2024-07-15T14:43:57.428238Z",
     "start_time": "2024-07-15T14:43:57.407410Z"
    }
   },
   "cell_type": "code",
   "source": "bank_hist_df",
   "id": "d3d740d5bfb8e53b",
   "outputs": [
    {
     "data": {
      "text/plain": [
       "              日期    开盘    收盘    最高    最低       成交量           成交额      振幅  \\\n",
       "0     2006-07-05  1.06  0.88  1.12  0.85  17639020  6.846112e+09  112.50   \n",
       "1     2006-07-06  0.84  0.82  0.85  0.79   3725565  1.386101e+09    6.82   \n",
       "2     2006-07-07  0.82  0.78  0.83  0.76   2097986  7.736735e+08    8.54   \n",
       "3     2006-07-10  0.78  0.80  0.82  0.76   1127236  4.161987e+08    7.69   \n",
       "4     2006-07-11  0.81  0.84  0.87  0.77   1356451  5.027508e+08   12.50   \n",
       "...          ...   ...   ...   ...   ...       ...           ...     ...   \n",
       "4363  2024-07-09  4.69  4.74  4.75  4.66   1755527  8.282924e+08    1.92   \n",
       "4364  2024-07-10  4.74  4.75  4.78  4.73   1375908  6.539514e+08    1.05   \n",
       "4365  2024-07-11  4.75  4.70  4.76  4.67   2157896  1.014178e+09    1.89   \n",
       "4366  2024-07-12  4.69  4.77  4.79  4.68   2073275  9.864454e+08    2.34   \n",
       "4367  2024-07-15  4.77  4.85  4.87  4.76   2191461  1.058269e+09    2.31   \n",
       "\n",
       "         涨跌幅   涨跌额    换手率  \n",
       "0     266.67  0.64  51.06  \n",
       "1      -6.82 -0.06  10.78  \n",
       "2      -4.88 -0.04   6.07  \n",
       "3       2.56  0.02   3.26  \n",
       "4       5.00  0.04   3.93  \n",
       "...      ...   ...    ...  \n",
       "4363    1.07  0.05   0.08  \n",
       "4364    0.21  0.01   0.07  \n",
       "4365   -1.05 -0.05   0.10  \n",
       "4366    1.49  0.07   0.10  \n",
       "4367    1.68  0.08   0.10  \n",
       "\n",
       "[4368 rows x 11 columns]"
      ],
      "text/html": [
       "<div>\n",
       "<style scoped>\n",
       "    .dataframe tbody tr th:only-of-type {\n",
       "        vertical-align: middle;\n",
       "    }\n",
       "\n",
       "    .dataframe tbody tr th {\n",
       "        vertical-align: top;\n",
       "    }\n",
       "\n",
       "    .dataframe thead th {\n",
       "        text-align: right;\n",
       "    }\n",
       "</style>\n",
       "<table border=\"1\" class=\"dataframe\">\n",
       "  <thead>\n",
       "    <tr style=\"text-align: right;\">\n",
       "      <th></th>\n",
       "      <th>日期</th>\n",
       "      <th>开盘</th>\n",
       "      <th>收盘</th>\n",
       "      <th>最高</th>\n",
       "      <th>最低</th>\n",
       "      <th>成交量</th>\n",
       "      <th>成交额</th>\n",
       "      <th>振幅</th>\n",
       "      <th>涨跌幅</th>\n",
       "      <th>涨跌额</th>\n",
       "      <th>换手率</th>\n",
       "    </tr>\n",
       "  </thead>\n",
       "  <tbody>\n",
       "    <tr>\n",
       "      <th>0</th>\n",
       "      <td>2006-07-05</td>\n",
       "      <td>1.06</td>\n",
       "      <td>0.88</td>\n",
       "      <td>1.12</td>\n",
       "      <td>0.85</td>\n",
       "      <td>17639020</td>\n",
       "      <td>6.846112e+09</td>\n",
       "      <td>112.50</td>\n",
       "      <td>266.67</td>\n",
       "      <td>0.64</td>\n",
       "      <td>51.06</td>\n",
       "    </tr>\n",
       "    <tr>\n",
       "      <th>1</th>\n",
       "      <td>2006-07-06</td>\n",
       "      <td>0.84</td>\n",
       "      <td>0.82</td>\n",
       "      <td>0.85</td>\n",
       "      <td>0.79</td>\n",
       "      <td>3725565</td>\n",
       "      <td>1.386101e+09</td>\n",
       "      <td>6.82</td>\n",
       "      <td>-6.82</td>\n",
       "      <td>-0.06</td>\n",
       "      <td>10.78</td>\n",
       "    </tr>\n",
       "    <tr>\n",
       "      <th>2</th>\n",
       "      <td>2006-07-07</td>\n",
       "      <td>0.82</td>\n",
       "      <td>0.78</td>\n",
       "      <td>0.83</td>\n",
       "      <td>0.76</td>\n",
       "      <td>2097986</td>\n",
       "      <td>7.736735e+08</td>\n",
       "      <td>8.54</td>\n",
       "      <td>-4.88</td>\n",
       "      <td>-0.04</td>\n",
       "      <td>6.07</td>\n",
       "    </tr>\n",
       "    <tr>\n",
       "      <th>3</th>\n",
       "      <td>2006-07-10</td>\n",
       "      <td>0.78</td>\n",
       "      <td>0.80</td>\n",
       "      <td>0.82</td>\n",
       "      <td>0.76</td>\n",
       "      <td>1127236</td>\n",
       "      <td>4.161987e+08</td>\n",
       "      <td>7.69</td>\n",
       "      <td>2.56</td>\n",
       "      <td>0.02</td>\n",
       "      <td>3.26</td>\n",
       "    </tr>\n",
       "    <tr>\n",
       "      <th>4</th>\n",
       "      <td>2006-07-11</td>\n",
       "      <td>0.81</td>\n",
       "      <td>0.84</td>\n",
       "      <td>0.87</td>\n",
       "      <td>0.77</td>\n",
       "      <td>1356451</td>\n",
       "      <td>5.027508e+08</td>\n",
       "      <td>12.50</td>\n",
       "      <td>5.00</td>\n",
       "      <td>0.04</td>\n",
       "      <td>3.93</td>\n",
       "    </tr>\n",
       "    <tr>\n",
       "      <th>...</th>\n",
       "      <td>...</td>\n",
       "      <td>...</td>\n",
       "      <td>...</td>\n",
       "      <td>...</td>\n",
       "      <td>...</td>\n",
       "      <td>...</td>\n",
       "      <td>...</td>\n",
       "      <td>...</td>\n",
       "      <td>...</td>\n",
       "      <td>...</td>\n",
       "      <td>...</td>\n",
       "    </tr>\n",
       "    <tr>\n",
       "      <th>4363</th>\n",
       "      <td>2024-07-09</td>\n",
       "      <td>4.69</td>\n",
       "      <td>4.74</td>\n",
       "      <td>4.75</td>\n",
       "      <td>4.66</td>\n",
       "      <td>1755527</td>\n",
       "      <td>8.282924e+08</td>\n",
       "      <td>1.92</td>\n",
       "      <td>1.07</td>\n",
       "      <td>0.05</td>\n",
       "      <td>0.08</td>\n",
       "    </tr>\n",
       "    <tr>\n",
       "      <th>4364</th>\n",
       "      <td>2024-07-10</td>\n",
       "      <td>4.74</td>\n",
       "      <td>4.75</td>\n",
       "      <td>4.78</td>\n",
       "      <td>4.73</td>\n",
       "      <td>1375908</td>\n",
       "      <td>6.539514e+08</td>\n",
       "      <td>1.05</td>\n",
       "      <td>0.21</td>\n",
       "      <td>0.01</td>\n",
       "      <td>0.07</td>\n",
       "    </tr>\n",
       "    <tr>\n",
       "      <th>4365</th>\n",
       "      <td>2024-07-11</td>\n",
       "      <td>4.75</td>\n",
       "      <td>4.70</td>\n",
       "      <td>4.76</td>\n",
       "      <td>4.67</td>\n",
       "      <td>2157896</td>\n",
       "      <td>1.014178e+09</td>\n",
       "      <td>1.89</td>\n",
       "      <td>-1.05</td>\n",
       "      <td>-0.05</td>\n",
       "      <td>0.10</td>\n",
       "    </tr>\n",
       "    <tr>\n",
       "      <th>4366</th>\n",
       "      <td>2024-07-12</td>\n",
       "      <td>4.69</td>\n",
       "      <td>4.77</td>\n",
       "      <td>4.79</td>\n",
       "      <td>4.68</td>\n",
       "      <td>2073275</td>\n",
       "      <td>9.864454e+08</td>\n",
       "      <td>2.34</td>\n",
       "      <td>1.49</td>\n",
       "      <td>0.07</td>\n",
       "      <td>0.10</td>\n",
       "    </tr>\n",
       "    <tr>\n",
       "      <th>4367</th>\n",
       "      <td>2024-07-15</td>\n",
       "      <td>4.77</td>\n",
       "      <td>4.85</td>\n",
       "      <td>4.87</td>\n",
       "      <td>4.76</td>\n",
       "      <td>2191461</td>\n",
       "      <td>1.058269e+09</td>\n",
       "      <td>2.31</td>\n",
       "      <td>1.68</td>\n",
       "      <td>0.08</td>\n",
       "      <td>0.10</td>\n",
       "    </tr>\n",
       "  </tbody>\n",
       "</table>\n",
       "<p>4368 rows × 11 columns</p>\n",
       "</div>"
      ]
     },
     "execution_count": 3,
     "metadata": {},
     "output_type": "execute_result"
    }
   ],
   "execution_count": 3
  },
  {
   "metadata": {
    "ExecuteTime": {
     "end_time": "2024-07-15T14:30:12.011969Z",
     "start_time": "2024-07-15T14:30:12.006299Z"
    }
   },
   "cell_type": "code",
   "source": [
    "ningde_index = talib.TSF(ningde_hist_df[\"收盘\"], timeperiod=30)\n",
    "ningde_index"
   ],
   "id": "aa021596f6e21b59",
   "outputs": [
    {
     "data": {
      "text/plain": [
       "0              NaN\n",
       "1              NaN\n",
       "2              NaN\n",
       "3              NaN\n",
       "4              NaN\n",
       "           ...    \n",
       "1475    173.836897\n",
       "1476    172.469310\n",
       "1477    171.873241\n",
       "1478    171.840575\n",
       "1479    171.601770\n",
       "Length: 1480, dtype: float64"
      ]
     },
     "execution_count": 4,
     "metadata": {},
     "output_type": "execute_result"
    }
   ],
   "execution_count": 4
  },
  {
   "metadata": {
    "ExecuteTime": {
     "end_time": "2024-07-15T14:30:13.287666Z",
     "start_time": "2024-07-15T14:30:13.281665Z"
    }
   },
   "cell_type": "code",
   "source": [
    "bank_index = talib.TSF(bank_hist_df[\"收盘\"], timeperiod=30)\n",
    "bank_index"
   ],
   "id": "e0ee83595d8615f1",
   "outputs": [
    {
     "data": {
      "text/plain": [
       "0            NaN\n",
       "1            NaN\n",
       "2            NaN\n",
       "3            NaN\n",
       "4            NaN\n",
       "          ...   \n",
       "4363    4.696276\n",
       "4364    4.721724\n",
       "4365    4.736437\n",
       "4366    4.755816\n",
       "4367    4.785586\n",
       "Length: 4368, dtype: float64"
      ]
     },
     "execution_count": 5,
     "metadata": {},
     "output_type": "execute_result"
    }
   ],
   "execution_count": 5
  },
  {
   "metadata": {
    "ExecuteTime": {
     "end_time": "2024-07-15T14:32:15.334415Z",
     "start_time": "2024-07-15T14:32:12.246273Z"
    }
   },
   "cell_type": "code",
   "source": [
    "%matplotlib auto\n",
    "import yfinance as yf\n",
    "import talib\n",
    "import numpy as np\n",
    "import matplotlib.pyplot as plt\n",
    "\n",
    "# 下载历史价格数据\n",
    "stock = yf.download(\"AAPL\", start=\"2022-01-01\", end=\"2023-01-01\")\n",
    "\n",
    "# 获取收盘价\n",
    "price_series = bank_hist_df[\"收盘\"].values\n",
    "\n",
    "# 计算时间序列预测值\n",
    "time_period = 20  # 使用20天的窗口\n",
    "tsf = talib.TSF(price_series, timeperiod=time_period)\n",
    "\n",
    "# 绘制收盘价和时间序列预测值\n",
    "plt.figure(figsize=(14, 7))\n",
    "plt.plot(price_series, label='收盘价')\n",
    "plt.plot(tsf, label='时间序列预测值', linestyle='--')\n",
    "plt.legend()\n",
    "plt.title('AAPL收盘价及其时间序列预测值')\n",
    "plt.show()\n"
   ],
   "id": "fa3bd56815770e67",
   "outputs": [
    {
     "name": "stdout",
     "output_type": "stream",
     "text": [
      "Using matplotlib backend: <object object at 0x0000020E3CD5FBB0>\n",
      "[*********************100%***********************]  1 of 1 completed\n"
     ]
    },
    {
     "ename": "NameError",
     "evalue": "name 'bank_hist_df' is not defined",
     "output_type": "error",
     "traceback": [
      "\u001B[1;31m---------------------------------------------------------------------------\u001B[0m",
      "\u001B[1;31mNameError\u001B[0m                                 Traceback (most recent call last)",
      "Cell \u001B[1;32mIn[1], line 11\u001B[0m\n\u001B[0;32m      8\u001B[0m stock \u001B[38;5;241m=\u001B[39m yf\u001B[38;5;241m.\u001B[39mdownload(\u001B[38;5;124m\"\u001B[39m\u001B[38;5;124mAAPL\u001B[39m\u001B[38;5;124m\"\u001B[39m, start\u001B[38;5;241m=\u001B[39m\u001B[38;5;124m\"\u001B[39m\u001B[38;5;124m2022-01-01\u001B[39m\u001B[38;5;124m\"\u001B[39m, end\u001B[38;5;241m=\u001B[39m\u001B[38;5;124m\"\u001B[39m\u001B[38;5;124m2023-01-01\u001B[39m\u001B[38;5;124m\"\u001B[39m)\n\u001B[0;32m     10\u001B[0m \u001B[38;5;66;03m# 获取收盘价\u001B[39;00m\n\u001B[1;32m---> 11\u001B[0m price_series \u001B[38;5;241m=\u001B[39m \u001B[43mbank_hist_df\u001B[49m[\u001B[38;5;124m\"\u001B[39m\u001B[38;5;124m收盘\u001B[39m\u001B[38;5;124m\"\u001B[39m]\u001B[38;5;241m.\u001B[39mvalues\n\u001B[0;32m     13\u001B[0m \u001B[38;5;66;03m# 计算时间序列预测值\u001B[39;00m\n\u001B[0;32m     14\u001B[0m time_period \u001B[38;5;241m=\u001B[39m \u001B[38;5;241m20\u001B[39m  \u001B[38;5;66;03m# 使用20天的窗口\u001B[39;00m\n",
      "\u001B[1;31mNameError\u001B[0m: name 'bank_hist_df' is not defined"
     ]
    }
   ],
   "execution_count": 1
  }
 ],
 "metadata": {
  "kernelspec": {
   "display_name": "Python 3",
   "language": "python",
   "name": "python3"
  },
  "language_info": {
   "codemirror_mode": {
    "name": "ipython",
    "version": 2
   },
   "file_extension": ".py",
   "mimetype": "text/x-python",
   "name": "python",
   "nbconvert_exporter": "python",
   "pygments_lexer": "ipython2",
   "version": "2.7.6"
  }
 },
 "nbformat": 4,
 "nbformat_minor": 5
}
